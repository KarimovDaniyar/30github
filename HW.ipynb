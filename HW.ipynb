{
 "cells": [
  {
   "cell_type": "code",
   "execution_count": 23,
   "metadata": {},
   "outputs": [
    {
     "ename": "FileNotFoundError",
     "evalue": "[Errno 2] No such file or directory: 'products.csv'",
     "output_type": "error",
     "traceback": [
      "\u001b[1;31m---------------------------------------------------------------------------\u001b[0m",
      "\u001b[1;31mFileNotFoundError\u001b[0m                         Traceback (most recent call last)",
      "Cell \u001b[1;32mIn[23], line 4\u001b[0m\n\u001b[0;32m      1\u001b[0m \u001b[38;5;28;01mfrom\u001b[39;00m \u001b[38;5;21;01mcsv\u001b[39;00m \u001b[38;5;28;01mimport\u001b[39;00m reader\n\u001b[0;32m      2\u001b[0m \u001b[38;5;28;01mfrom\u001b[39;00m \u001b[38;5;21;01mcollections\u001b[39;00m \u001b[38;5;28;01mimport\u001b[39;00m defaultdict\n\u001b[1;32m----> 4\u001b[0m file \u001b[38;5;241m=\u001b[39m reader(\u001b[38;5;28;43mopen\u001b[39;49m\u001b[43m(\u001b[49m\u001b[38;5;124;43m'\u001b[39;49m\u001b[38;5;124;43mproducts.csv\u001b[39;49m\u001b[38;5;124;43m'\u001b[39;49m\u001b[43m)\u001b[49m)\n\u001b[0;32m      5\u001b[0m \u001b[38;5;28mnext\u001b[39m(file)\n\u001b[0;32m      6\u001b[0m products \u001b[38;5;241m=\u001b[39m {}\n",
      "File \u001b[1;32m~\\AppData\\Roaming\\Python\\Python312\\site-packages\\IPython\\core\\interactiveshell.py:324\u001b[0m, in \u001b[0;36m_modified_open\u001b[1;34m(file, *args, **kwargs)\u001b[0m\n\u001b[0;32m    317\u001b[0m \u001b[38;5;28;01mif\u001b[39;00m file \u001b[38;5;129;01min\u001b[39;00m {\u001b[38;5;241m0\u001b[39m, \u001b[38;5;241m1\u001b[39m, \u001b[38;5;241m2\u001b[39m}:\n\u001b[0;32m    318\u001b[0m     \u001b[38;5;28;01mraise\u001b[39;00m \u001b[38;5;167;01mValueError\u001b[39;00m(\n\u001b[0;32m    319\u001b[0m         \u001b[38;5;124mf\u001b[39m\u001b[38;5;124m\"\u001b[39m\u001b[38;5;124mIPython won\u001b[39m\u001b[38;5;124m'\u001b[39m\u001b[38;5;124mt let you open fd=\u001b[39m\u001b[38;5;132;01m{\u001b[39;00mfile\u001b[38;5;132;01m}\u001b[39;00m\u001b[38;5;124m by default \u001b[39m\u001b[38;5;124m\"\u001b[39m\n\u001b[0;32m    320\u001b[0m         \u001b[38;5;124m\"\u001b[39m\u001b[38;5;124mas it is likely to crash IPython. If you know what you are doing, \u001b[39m\u001b[38;5;124m\"\u001b[39m\n\u001b[0;32m    321\u001b[0m         \u001b[38;5;124m\"\u001b[39m\u001b[38;5;124myou can use builtins\u001b[39m\u001b[38;5;124m'\u001b[39m\u001b[38;5;124m open.\u001b[39m\u001b[38;5;124m\"\u001b[39m\n\u001b[0;32m    322\u001b[0m     )\n\u001b[1;32m--> 324\u001b[0m \u001b[38;5;28;01mreturn\u001b[39;00m \u001b[43mio_open\u001b[49m\u001b[43m(\u001b[49m\u001b[43mfile\u001b[49m\u001b[43m,\u001b[49m\u001b[43m \u001b[49m\u001b[38;5;241;43m*\u001b[39;49m\u001b[43margs\u001b[49m\u001b[43m,\u001b[49m\u001b[43m \u001b[49m\u001b[38;5;241;43m*\u001b[39;49m\u001b[38;5;241;43m*\u001b[39;49m\u001b[43mkwargs\u001b[49m\u001b[43m)\u001b[49m\n",
      "\u001b[1;31mFileNotFoundError\u001b[0m: [Errno 2] No such file or directory: 'products.csv'"
     ]
    }
   ],
   "source": [
    "from csv import reader\n",
    "from collections import defaultdict\n",
    "\n",
    "file = reader(open('products.csv'))\n",
    "next(file)\n",
    "products = {}\n",
    "for i in file:\n",
    "    id , name, tel = i\n",
    "    products[id] = name\n",
    "    \n",
    "file = reader(open('distributor.csv'))\n",
    "next(file)\n",
    "distributors= {}\n",
    "for i in file:\n",
    "    id , name, tel = i\n",
    "    distributors[id] = name\n",
    "    \n",
    "file = reader(open('clients.csv'))\n",
    "next(file)\n",
    "clients = {}\n",
    "for i in file:\n",
    "    id , name, tel, address = i\n",
    "    clients[id] = name\n",
    "    \n",
    "file = reader(open('purchase.csv'))\n",
    "next(file)\n",
    "f_purchase = [i for i in file]\n",
    "\n",
    "file = reader(open('sales.csv'))\n",
    "next(file)\n",
    "f_sales = [i for i in file]\n",
    "\n",
    "file = reader(open('distributor.csv'))\n",
    "next(file)\n",
    "f_distributor = [i for i in file]\n",
    "\n",
    "# 1. Напишите программу на Python, которая рассчитает общее количество каждого товара,\n",
    "# купленного у дистрибьюторов, используя данные из файлов items.csv и purchase.csv.\n",
    "def kol_items():\n",
    "    d = {}\n",
    "    for i in f_purchase:\n",
    "        d += float(i[3])\n",
    "    return d\n",
    "print (kol_items())\n",
    "\n",
    "# 2.Объедините файлы sales.csv и items.csv\n",
    "# чтобы рассчитать общий доход, полученный от продажи каждого товара в магазине.\n",
    "def summa():\n",
    "    summa = 0\n",
    "    d =defaultdict(float)\n",
    "    for i in f_sales:\n",
    "        d[products[i[2]]] += round(float(i[5]))\n",
    "    for name, cost in d.items():\n",
    "        summa += cost\n",
    "    return (d) , summa\n",
    "summa()\n",
    "\n",
    "# 3.Используя данные из purchase.csv, distributor.csv,\n",
    "# рассчитайте общую сумму, потраченную каждым дистрибьютором на каждый товар,\n",
    "# и определите, какой дистрибьютор поставил самый дорогой товар.\n",
    "def dis():\n",
    "    mx = float('-inf')\n",
    "    d = {}\n",
    "    for i in f_purchase:\n",
    "        name = distributors[i[1]]\n",
    "        prod = products[i[2]]\n",
    "\n",
    "        if name not in d:\n",
    "            d[name] = {}\n",
    "        if prod not in d[name]:\n",
    "            d[name][prod]  = 0\n",
    "        d[name][prod] += round(float(i[5]))\n",
    "        \n",
    "        \n",
    "    for i in f_purchase:\n",
    "        if float(i[4]) > mx:\n",
    "            mx = float(i[4])\n",
    "            name = distributors[i[1]] \n",
    "            prod = products[i[2]]\n",
    "    return d , mx , name, prod\n",
    "dis()\n",
    "\n",
    "# 4.Объедините sales.csv и clients.csv, чтобы выяснить,\n",
    "# какой клиент совершил наибольшую сумму покупок в магазине.\n",
    "def customer():\n",
    "    d = defaultdict(float)\n",
    "    mx = float('-inf')\n",
    "    for i in f_sales:\n",
    "        d[clients[i[1]]] += float(i[5])\n",
    "    for name , money in d.items():\n",
    "        if money > mx:\n",
    "            mx = money\n",
    "            imy = name\n",
    "    return imy , mx\n",
    "customer()\n",
    "\n",
    "# 5.Используя файлы sales.csv, clients.csv и items.csv,\n",
    "# найдите топ-5 клиентов по количеству разных товаров, которые они приобрели.\n",
    "def top_five():\n",
    "    d = {}\n",
    "    arr = []\n",
    "    mx = float('-inf')\n",
    "    for i in f_sales:\n",
    "        client = clients[i[1]]\n",
    "        prod = products[i[2]]\n",
    "        if client not in d:\n",
    "            d[client] = []\n",
    "        if prod not in d[client]:\n",
    "            d[client].append(prod)\n",
    "    for k, v in d.items(): \n",
    "        arr.append((len(v), k))\n",
    "        arr = sorted(arr)\n",
    "    return arr[-5:]\n",
    "top_five()\n",
    "\n",
    "# 6.Объедините purchase.csv, items.csv и distributor.csv,\n",
    "# чтобы рассчитать среднюю цену, заплаченную за каждый товар магазином у разных дистрибьюторов.\n",
    "def fun6():\n",
    "    d = {} \n",
    "    for i in f_purchase:\n",
    "        prod = products[i[2]]\n",
    "        cost = float(i[5])\n",
    "        count = int(i[3])\n",
    "        \n",
    "        if prod not in d:\n",
    "            d[prod] = {'count': 0, 'cost': 0}\n",
    "        d[prod]['count'] += count\n",
    "        d[prod]['cost'] += cost\n",
    "\n",
    "    avg_prod = {}\n",
    "    for key, value in d.items():\n",
    "        avg = value['cost']/value['count']\n",
    "        avg_prod[key] = round(avg)\n",
    "    return avg_prod\n",
    "fun6()\n",
    "# 7.Напишите программу на Python, чтобы определить,\n",
    "# какой товар приносит наибольшую прибыль, \n",
    "# сравнив стоимость покупки (из purchase.csv) и цену продажи (из sales.csv).\n",
    "def fun7():\n",
    "    purchase = {}\n",
    "    for i in f_purchase:\n",
    "        item = i[2]\n",
    "        p = float(i[4])\n",
    "        purchase[item] = p\n",
    "    sales = {}\n",
    "    for j in f_sales:\n",
    "        item  = j[2]\n",
    "        s = float(j[4])\n",
    "        sales[item] = s\n",
    "        if item in purchase:\n",
    "            sales[item] = (s - purchase[item])\n",
    "    v = max(sales, key = sales.get)\n",
    "    mx = sales[v]\n",
    "    return mx, products[v]\n",
    "fun7()\n",
    "# 8.Объедините purchase.csv и sales.csv, чтобы проанализировать,\n",
    "# продал ли магазин больше товаров, чем приобрел, за определенный период времени.\n",
    "def fun8():\n",
    "    s_sales  = {}\n",
    "    for i in f_sales:\n",
    "        item = i[2]\n",
    "        s_c = float(i[3])\n",
    "        s_sales[item] = s_c\n",
    "    s_purchase = {}\n",
    "    for j in f_purchase:\n",
    "        item = j[2]\n",
    "        p_c = float(j[3])\n",
    "        \n",
    "        if item in s_sales:\n",
    "            s_purchase[products[item]] = s_sales[item] - p_c\n",
    "    return s_purchase\n",
    "fun8()        \n",
    "\n",
    "# 9.Используя clients.csv, sales.csv  напишите программу, \n",
    "# чтобы определить клиента, который купил наибольшее количество определенного товара.\n",
    "def fun9():\n",
    "    d = {}\n",
    "    mx = float('-inf')\n",
    "    for i in f_sales:\n",
    "        d.setdefault(i[1], {})\n",
    "        # if i[1] not in d:\n",
    "        #     d[i[1]] = {}\n",
    "        if i[2] not in d[i[1]]:\n",
    "            d[i[1]][i[2]] = 0\n",
    "        d[i[1]][i[2]] += round(float(i[3]))\n",
    "        \n",
    "    # print(d)\n",
    "    result = {}\n",
    "    for key, value in d.items():\n",
    "        for item, count in value.items():\n",
    "            if count > mx:\n",
    "                mx = count\n",
    "                name = clients[key]\n",
    "                i = products[item]  \n",
    "        result[name] = {i: mx} \n",
    "    return result\n",
    "print (fun9())\n",
    "\n"
   ]
  },
  {
   "cell_type": "code",
   "execution_count": null,
   "metadata": {},
   "outputs": [
    {
     "name": "stdout",
     "output_type": "stream",
     "text": [
      "({}, 25047)\n"
     ]
    }
   ],
   "source": [
    "def kol_items():\n",
    "    d = {}\n",
    "    s = 0\n",
    "    for i in f_purchase:\n",
    "        s += int(i[3])\n",
    "    return d, s\n",
    "print (kol_items())"
   ]
  },
  {
   "cell_type": "code",
   "execution_count": null,
   "metadata": {},
   "outputs": [],
   "source": []
  },
  {
   "cell_type": "code",
   "execution_count": null,
   "metadata": {},
   "outputs": [],
   "source": [
    "from csv import reader\n",
    "import datetime\n",
    "file = reader(open(r'C:\\Users\\ACER\\Desktop\\VSC\\currencies.csv'))\n",
    "currencies = {}\n",
    "for line in file:\n",
    "    id, name = line\n",
    "    currencies[id] = name\n",
    "\n",
    "file = reader(open(r'C:\\Users\\ACER\\Desktop\\VSC\\users.csv'))\n",
    "users = {}\n",
    "for line in file:\n",
    "    id, name = line\n",
    "    users[id] = name\n",
    "\n",
    "# 1. История транзакций для каждого пользователя\n",
    "# Задача: Сформировать хронологический список транзакций для каждого пользователя с указанием даты, суммы, валюты и отправителя/получателя.\n",
    "def get_history():\n",
    "    file = reader(open(r'C:\\Users\\ACER\\Desktop\\VSC\\mbank_short.csv'))\n",
    "    history = {}\n",
    "    next(file)\n",
    "    file = list(file)\n",
    "    for line in file:\n",
    "        if len(line) > 0:\n",
    "            date, sender_id, receiver_id, amount_id, c_id = line\n",
    "            date = datetime.datetime.fromtimestamp(int(date))\n",
    "            curr = currencies[c_id]\n",
    "            sender = users[sender_id]\n",
    "            receiver = users[receiver_id]\n",
    "            amount = int(amount_id)\n",
    "            \n",
    "            trans = f'{date} : {sender} отправил(а) {receiver} : {amount} {curr}'\n",
    "            \n",
    "            if sender not in history:\n",
    "                history[sender] = []\n",
    "            history[sender].append(trans)\n",
    "            \n",
    "            if receiver not in history:\n",
    "                history[receiver] = []\n",
    "            history[receiver].append(trans)\n",
    "            \n",
    "    for name, trans in history.items():\n",
    "        history[name] = sorted(trans)\n",
    "    print (history)\n",
    "    \n",
    "    for name, trans in history.items():\n",
    "        print (f'История для {name}')\n",
    "        for i in trans:\n",
    "            print (f'     {i}')\n",
    "        print ('\\n')\n",
    "# get_history()\n",
    "\n",
    "# 2. Топ-5 пользователей по сумме отправленных/полученных средств\n",
    "# Задача: Проранжировать пользователей по общей сумме отправленных и полученных средств.\n",
    "def top_five():\n",
    "    history_sender = {}\n",
    "    history_receiver = {}\n",
    "    d = {'0' : 1,'1' : 0.9,'2' : 80,'3' : 0.2,'4' : 90}\n",
    "    file = reader(open(r'C:\\Users\\ACER\\Desktop\\VSC\\mbank_short.csv'))\n",
    "    next(file)\n",
    "    file = list(file)\n",
    "    for i in file:\n",
    "        if len(i)>0:\n",
    "            history_sender[users[i[1]]] = history_sender.get(users[i[1]], 0) + round(d[i[4]]* int(i[3]))\n",
    "            history_receiver[users[i[2]]] = history_receiver.get(users[i[2]],0) + round(d[i[4]])* int(i[3])\n",
    "    top_5 =  []\n",
    "    for i , j in history_sender.items():\n",
    "        top_5.append((j, i))\n",
    "    top_5 = sorted(top_5)\n",
    "    top_less_5 = sorted([(j, i) for i, j in history_receiver.items()])\n",
    "    return f'отправители {(top_5)[::-1]}, получатели {(top_less_5)[::-1]}'\n",
    "# (top_five())\n",
    "\n",
    "# 3. Объем транзакций по датам\n",
    "# Задача: Подсчитать количество транзакций и их общую сумму для каждой даты.\n",
    "def trans():\n",
    "    kol_transov = {}\n",
    "    d = {'0' : 1,'1' : 0.9,'2' : 80,'3' : 0.2,'4' : 90}\n",
    "    with open(r'C:\\Users\\ACER\\Desktop\\VSC\\mbank_short.csv') as file:\n",
    "        file = reader(file)\n",
    "        next(file)\n",
    "        file = list(file)\n",
    "    for i in file[:100]:\n",
    "        if len(i)>0:\n",
    "            amo = int(i[3])* d[i[4]]\n",
    "            date = str(datetime.datetime.fromtimestamp(int(i[0])))\n",
    "            if date not in kol_transov:\n",
    "                kol_transov[date] = {'kol-vo' : 0 , 'summa' :  0}\n",
    "            kol_transov[date]['kol-vo'] += 1\n",
    "            kol_transov[date]['summa'] += amo\n",
    "    return kol_transov\n",
    "# trans()\n",
    "\n",
    "# 4. Отчет по средней сумме транзакции\n",
    "# Задача: Рассчитать среднюю сумму каждой транзакции для всех пользователей.\n",
    "def avg_trans():\n",
    "    amount = 0\n",
    "    c = 0\n",
    "    d = {'0' : 1,'1' : 0.9,'2' : 80,'3' : 0.2,'4' : 90}\n",
    "    with open(r'C:\\Users\\ACER\\Desktop\\VSC\\mbank_short.csv') as file:\n",
    "        file = reader(file)\n",
    "        next(file)\n",
    "        file = list(file)\n",
    "        for i in file:\n",
    "            if len(i)>0:\n",
    "                amount += int(i[3])* d[i[4]]\n",
    "                c += 1\n",
    "    return round(amount / c)\n",
    "# avg_trans()\n",
    "\n",
    "# 5. Отчет по активным пользователям\n",
    "# Задача: Определить, кто из пользователей совершил больше всего транзакций.\n",
    "def top_sender():\n",
    "    file = reader(open(r'C:\\Users\\ACER\\Desktop\\VSC\\mbank_short.csv'))\n",
    "    top_sender = {}\n",
    "    next(file)\n",
    "    for i in file:\n",
    "        if len(i) > 0:\n",
    "            top_sender[users[i[1]]] = top_sender.get(users[i[1]], 0) + 1\n",
    "    top_sender = sorted([(j,i) for  i, j in top_sender.items()])\n",
    "    return (top_sender)[::-1]\n",
    "top_sender()\n",
    "\n",
    "# 6. Отчет по наибольшей сумме транзакции\n",
    "# Задача: Найти транзакции с самой высокой суммой и показать информацию о них.\n",
    "def max_trans():\n",
    "    file = reader(open(r'C:\\Users\\ACER\\Desktop\\VSC\\mbank_short.csv'))\n",
    "    trans = []\n",
    "\n",
    "    next(file)\n",
    "    file = [i for i in file]\n",
    "    d = {'0' : 1,'1' : 0.9,'2' : 80,'3' : 0.2,'4' : 90}\n",
    "    for i in file[:10]:\n",
    "        if len(i) > 0:\n",
    "            money = ((round(d[i[4]]*int(i[3]))))\n",
    "            info = f'{users[i[1]]} send {users[i[2]]} {i[3]} {currencies[i[4]]}'\n",
    "            trans.append((money, info))\n",
    "    return sorted(trans)[::-1]\n",
    "max_trans()"
   ]
  },
  {
   "cell_type": "code",
   "execution_count": null,
   "metadata": {},
   "outputs": [
    {
     "name": "stdout",
     "output_type": "stream",
     "text": [
      "defaultdict(<class 'int'>, {'1': 2, '2': 2, '3': 2, '5': 2, '4': 1, '6': 1})\n"
     ]
    }
   ],
   "source": [
    "from collections import defaultdict\n",
    "arr = [1,1,2,3,5,4,2,3,5,6]\n",
    "di = defaultdict(int)    \n",
    "for i in arr:\n",
    "    di[str(i)]+=1\n",
    "# print (d)\n",
    "\n",
    "arr = ['daniyar', 'rozella', 'don', 'ibrashka', 'aelita']\n",
    "di = defaultdict(list)\n",
    "for i in arr:\n",
    "    di[i[0]].append(i)\n",
    "# print (d)\n",
    "\n"
   ]
  },
  {
   "cell_type": "code",
   "execution_count": null,
   "metadata": {},
   "outputs": [
    {
     "data": {
      "text/plain": [
       "{'Kim Gallegos': 59,\n",
       " 'Stacy Austin': 50,\n",
       " 'Douglas Hall': 44,\n",
       " 'Crystal Hernandez': 51,\n",
       " 'Carrie Page': 38,\n",
       " 'David Ramos': 48,\n",
       " 'Andrea Martin': 39,\n",
       " 'Luis Johnson': 50,\n",
       " 'Kristin Perez': 36,\n",
       " 'Mrs. Kayla Montoya': 63,\n",
       " 'Evelyn Boyd': 29,\n",
       " 'Paul Miller': 50,\n",
       " 'Janet Graves': 53,\n",
       " 'Grace Lester': 44,\n",
       " 'Alison Winters': 50,\n",
       " 'Andrea Phillips': 41,\n",
       " 'Norman Walker': 46,\n",
       " 'Marie Miller': 55,\n",
       " 'Marc Booker': 50,\n",
       " 'Christopher Bell': 54,\n",
       " 'Timothy Rogers IV': 42,\n",
       " 'Raymond Tate': 49,\n",
       " 'David Patton': 48,\n",
       " 'Julian Barnes': 52,\n",
       " 'Michael Holmes': 45,\n",
       " 'Willie Murray': 33,\n",
       " 'Caitlin Steele': 32,\n",
       " 'Jessica Alvarado': 36,\n",
       " 'Calvin Gibbs': 39,\n",
       " 'Mitchell Ortega': 48,\n",
       " 'Theresa Wilson': 35,\n",
       " 'Christine Michael': 53,\n",
       " 'Randy Rodriguez': 54,\n",
       " 'Anthony Gross': 25,\n",
       " 'Lindsey Wolfe': 44,\n",
       " 'Sheila Andrews': 52,\n",
       " 'Scott Marshall': 55,\n",
       " 'Christopher Mullins': 11,\n",
       " 'Robert Russell': 53,\n",
       " 'Maria Watkins': 56,\n",
       " 'Lisa Gonzalez': 45,\n",
       " 'James Garcia': 54,\n",
       " 'Travis Burns': 50,\n",
       " 'Hannah Chapman': 41,\n",
       " 'Steven Lin': 51,\n",
       " 'Janet Duncan': 54,\n",
       " 'Rebecca Hill': 44,\n",
       " 'Paul Sparks': 48,\n",
       " 'Christina Mills': 43,\n",
       " 'Bill Thomas': 35,\n",
       " 'Jonathan Lopez': 52,\n",
       " 'Briana Smith': 56,\n",
       " 'Jesus Duncan': 52,\n",
       " 'Kaylee Conley': 54,\n",
       " 'Christina Anderson': 26,\n",
       " 'David Jenkins': 49,\n",
       " 'Christina Jacobs': 47,\n",
       " 'Billy Sexton': 23,\n",
       " 'Nicole Ford': 28}"
      ]
     },
     "execution_count": 83,
     "metadata": {},
     "output_type": "execute_result"
    }
   ],
   "source": [
    "from csv import reader\n",
    "from collections import defaultdict\n",
    "\n",
    "def fun(file_name):\n",
    "    with open(file_name) as file:\n",
    "        file = list(reader(file))\n",
    "        students =file[1:60]\n",
    "        student_score = defaultdict(list)\n",
    "        midterm = {}\n",
    "    \n",
    "    for i in students:# name для удобства , m is midterm , если есть рандом то меняем на него \n",
    "        name = i[1]\n",
    "        m = i[12]\n",
    "        if i[14]: \n",
    "            i[13] = i[14] \n",
    "            i[14] = 0\n",
    "            \n",
    "        for score in i[2:]:\n",
    "            if score == m:\n",
    "                continue\n",
    "            if score == 'absent' or score == '':\n",
    "                score = 0\n",
    "            student_score[name].append(int(score))\n",
    "            \n",
    "        midterm_s = i[12]\n",
    "        if midterm_s == '' or midterm_s == 'absent':\n",
    "            midterm_s = 0\n",
    "        midterm[name] = int(midterm_s)\n",
    "        \n",
    "    final_score = {}\n",
    "    for stud, score in student_score.items():\n",
    "        avg = sum(sorted(score, reverse= True)[:6])/6\n",
    "        midterm_s = midterm.get(stud, 0)\n",
    "        final_s = round(0.7*avg + 0.075* midterm_s)\n",
    "        final_score[stud] = final_s\n",
    "    return final_score\n",
    "fun('exam2.csv')"
   ]
  },
  {
   "cell_type": "code",
   "execution_count": null,
   "metadata": {},
   "outputs": [
    {
     "ename": "ValueError",
     "evalue": "invalid literal for int() with base 10: 'James Mckinney'",
     "output_type": "error",
     "traceback": [
      "\u001b[1;31m---------------------------------------------------------------------------\u001b[0m",
      "\u001b[1;31mValueError\u001b[0m                                Traceback (most recent call last)",
      "Cell \u001b[1;32mIn[84], line 36\u001b[0m\n\u001b[0;32m     34\u001b[0m         final_score[stud] \u001b[38;5;241m=\u001b[39m final_s\n\u001b[0;32m     35\u001b[0m     \u001b[38;5;28;01mreturn\u001b[39;00m final_score\n\u001b[1;32m---> 36\u001b[0m \u001b[43mfun\u001b[49m\u001b[43m(\u001b[49m\u001b[38;5;124;43m'\u001b[39;49m\u001b[38;5;124;43mexam_final.csv\u001b[39;49m\u001b[38;5;124;43m'\u001b[39;49m\u001b[43m)\u001b[49m\n",
      "Cell \u001b[1;32mIn[84], line 22\u001b[0m, in \u001b[0;36mfun\u001b[1;34m(file_name)\u001b[0m\n\u001b[0;32m     20\u001b[0m     \u001b[38;5;28;01mif\u001b[39;00m score \u001b[38;5;241m==\u001b[39m \u001b[38;5;124m'\u001b[39m\u001b[38;5;124mabsent\u001b[39m\u001b[38;5;124m'\u001b[39m \u001b[38;5;129;01mor\u001b[39;00m score \u001b[38;5;241m==\u001b[39m \u001b[38;5;124m'\u001b[39m\u001b[38;5;124m'\u001b[39m:\n\u001b[0;32m     21\u001b[0m         score \u001b[38;5;241m=\u001b[39m \u001b[38;5;241m0\u001b[39m\n\u001b[1;32m---> 22\u001b[0m     student_score[name]\u001b[38;5;241m.\u001b[39mappend(\u001b[38;5;28;43mint\u001b[39;49m\u001b[43m(\u001b[49m\u001b[43mscore\u001b[49m\u001b[43m)\u001b[49m)\n\u001b[0;32m     24\u001b[0m midterm_s \u001b[38;5;241m=\u001b[39m i[\u001b[38;5;241m12\u001b[39m]\n\u001b[0;32m     25\u001b[0m \u001b[38;5;28;01mif\u001b[39;00m midterm_s \u001b[38;5;241m==\u001b[39m \u001b[38;5;124m'\u001b[39m\u001b[38;5;124m'\u001b[39m \u001b[38;5;129;01mor\u001b[39;00m midterm_s \u001b[38;5;241m==\u001b[39m \u001b[38;5;124m'\u001b[39m\u001b[38;5;124mabsent\u001b[39m\u001b[38;5;124m'\u001b[39m:\n",
      "\u001b[1;31mValueError\u001b[0m: invalid literal for int() with base 10: 'James Mckinney'"
     ]
    }
   ],
   "source": [
    "from csv import reader\n",
    "from collections import defaultdict\n",
    "\n",
    "def fun(file_name):\n",
    "    file = list(reader(open(file_name)))\n",
    "    students =file[1:60]\n",
    "    student_score = defaultdict(list)\n",
    "    midterm = {}\n",
    "    for i in \n",
    "    for i in students:# name для удобства , m is midterm , если есть рандом то меняем на него \n",
    "        name = i[1]\n",
    "        m = i[12]\n",
    "\n",
    "            \n",
    "        for score in i[2:]:\n",
    "            if score == m:\n",
    "                continue\n",
    "            if score == 'absent' or score == '':\n",
    "                score = 0\n",
    "            student_score[name].append(int(score))\n",
    "            \n",
    "        midterm_s = i[12]\n",
    "        if midterm_s == '' or midterm_s == 'absent':\n",
    "            midterm_s = 0\n",
    "        midterm[name] = int(midterm_s)\n",
    "        \n",
    "    final_score = {}\n",
    "    for stud, score in student_score.items():\n",
    "        avg = sum(sorted(score, reverse= True)[:6])/6\n",
    "        midterm_s = midterm.get(stud, 0)\n",
    "        final_s = round(0.7*avg)\n",
    "        final_score[stud] = final_s\n",
    "    return final_score\n",
    "fun('exam_final.csv')"
   ]
  },
  {
   "cell_type": "code",
   "execution_count": null,
   "metadata": {},
   "outputs": [
    {
     "data": {
      "text/plain": [
       "[(82, 'Ryan Wilkins'),\n",
       " (79, 'Destiny Mcclure'),\n",
       " (77, 'Ronald Le'),\n",
       " (74, 'Matthew Roberts'),\n",
       " (73, 'Jamie Gallegos'),\n",
       " (73, 'Frank Phillips'),\n",
       " (73, 'Deborah Spence'),\n",
       " (70, 'Timothy Johnson'),\n",
       " (70, 'Sierra Jones'),\n",
       " (70, 'Mr. Phillip Molina'),\n",
       " (70, 'Julia Hernandez'),\n",
       " (70, 'James Lawrence'),\n",
       " (68, 'Manuel Douglas'),\n",
       " (66, 'Thomas Weber'),\n",
       " (66, 'Tara Bryan'),\n",
       " (66, 'Jasmine Kelley'),\n",
       " (66, 'Austin Jimenez'),\n",
       " (65, 'Joseph Smith'),\n",
       " (65, 'Brendan Gibbs'),\n",
       " (64, 'Julie Mitchell'),\n",
       " (63, 'Michelle Lopez'),\n",
       " (63, 'Connor Hubbard'),\n",
       " (62, 'James Mckinney'),\n",
       " (61, 'Teresa Green'),\n",
       " (60, 'Whitney Smith'),\n",
       " (60, 'Regina Mcclure'),\n",
       " (60, 'Jeremy Green'),\n",
       " (59, 'Brittany Spence'),\n",
       " (59, 'Anthony Cooke'),\n",
       " (58, 'Karen Quinn'),\n",
       " (57, 'Darren Jones'),\n",
       " (56, 'Wesley Smith'),\n",
       " (55, 'Jesse Thompson'),\n",
       " (54, 'Todd Browning'),\n",
       " (54, 'Andrew Taylor'),\n",
       " (52, 'Paul Reynolds'),\n",
       " (52, 'David Mcconnell'),\n",
       " (51, 'Michael Parker'),\n",
       " (51, 'Eric Robbins'),\n",
       " (50, 'Victoria Johnson'),\n",
       " (49, 'Susan Murray'),\n",
       " (49, 'Gregory French'),\n",
       " (48, 'Melissa Aguilar'),\n",
       " (48, 'Brianna Gonzalez'),\n",
       " (47, 'Sean Martin'),\n",
       " (46, 'Mr. James Perkins'),\n",
       " (45, 'Lisa Bennett'),\n",
       " (45, 'Jim Meyer'),\n",
       " (42, 'Robert Fisher'),\n",
       " (40, 'Steven Bradley'),\n",
       " (40, 'Ashley Meyers'),\n",
       " (38, 'Veronica Willis'),\n",
       " (38, 'James Atkins DVM'),\n",
       " (37, 'Shelley Sims'),\n",
       " (37, 'Jessica Hernandez'),\n",
       " (36, 'William Castillo'),\n",
       " (35, 'Robert Powers'),\n",
       " (32, 'Jason Park'),\n",
       " (27, 'Bethany Fernandez'),\n",
       " (23, 'Crystal Cole')]"
      ]
     },
     "execution_count": 45,
     "metadata": {},
     "output_type": "execute_result"
    }
   ],
   "source": [
    "from csv import reader\n",
    "def get_average_score():\n",
    "    result = []\n",
    "    with open(\"exam_final.csv\") as fid:\n",
    "        r = reader(fid)\n",
    "        header = next(r)\n",
    "        id_index = header.index('id')\n",
    "        name_index = header.index('names')\n",
    "        midterm_index = header.index('10/14/2024') \n",
    "        taken = [id_index, name_index, midterm_index]\n",
    "        for i in r:\n",
    "            try:\n",
    "                midterm = int(i[midterm_index])\n",
    "            except:\n",
    "                midterm = 0\n",
    "            id = i[id_index]\n",
    "            name = i[name_index]\n",
    "            quizzes = []\n",
    "            for inx, j in enumerate(i):\n",
    "                if inx not in taken:\n",
    "                    quizzes.append(j)\n",
    "            quiz_scores = []\n",
    "            for j in quizzes:\n",
    "                try:\n",
    "                    score = int(j)\n",
    "                    quiz_scores.append(score) \n",
    "                except:\n",
    "                    quiz_scores.append(0)\n",
    "            quiz_sorted = sorted(quiz_scores, reverse=True)\n",
    "            avg_quiz = sum(quiz_sorted[:7])/7\n",
    "            avg = round((0.7 * avg_quiz + 0.075*midterm ) / 0.775)\n",
    "            if name:\n",
    "                result.append((avg, name))\n",
    "    return sorted(result,reverse= True)\n",
    "get_average_score()"
   ]
  },
  {
   "cell_type": "code",
   "execution_count": null,
   "metadata": {},
   "outputs": [],
   "source": [
    "arr = [1,2,3,4,4]\n",
    "print((lambda arr:sum(x**2 for x in arr))(arr))\n",
    "print((lambda arr:[x for x in arr if x%2 == 0])(arr))\n",
    "people = [{\"name\": \"Alice\", \"age\": 25}, {\"name\": \"Bob\", \"age\": 20}, {\"name\": \"Charlie\", \"age\": 30}]\n",
    "print((lambda people:sorted(people , key = lambda x : x[\"age\"]))(people))\n",
    "\n"
   ]
  },
  {
   "cell_type": "code",
   "execution_count": null,
   "metadata": {},
   "outputs": [],
   "source": [
    "\n",
    "from csv import reader\n",
    "file = reader(open(\"exam_final.csv\"))\n",
    "header = next(file)\n",
    "file = [i for i in file]\n",
    "def fun():\n",
    "    id_index = header.index(\"id\")\n",
    "    name_index = header.index(\"names\")\n",
    "    midterms = file[60:61]\n",
    "    c = []\n",
    "    for i, m in enumerate(midterms):\n",
    "        if m == \"midterm\":\n",
    "            # taken = [id_index, name_index, m]\n",
    "            print (m)\n",
    "\n",
    "    results = []\n",
    "    for i in file:\n",
    "        try:\n",
    "            mid_score = int(i[mid_index])\n",
    "        except: \n",
    "            mid_score = 0 \n",
    "        names = i[name_index]\n",
    "        quizzes = []\n",
    "        for ind, j in enumerate(i):\n",
    "            # if ind not in taken:\n",
    "                quizzes.append(j)\n",
    "        scores = []\n",
    "        for j in quizzes:\n",
    "            try:\n",
    "                scores.append(int(j))\n",
    "            except:\n",
    "                scores.append(0)\n",
    "\n",
    "        top_7 = sorted(scores, reverse = True)\n",
    "        avg = sum(top_7[:7])/7\n",
    "        avg_for_all = round((mid_score*0.075 + avg*0.7)/0.775)\n",
    "        results.append((avg_for_all,names))\n",
    "    # return sorted(results, reverse = True)\n",
    "fun()"
   ]
  },
  {
   "cell_type": "code",
   "execution_count": null,
   "metadata": {},
   "outputs": [
    {
     "name": "stdout",
     "output_type": "stream",
     "text": [
      "defaultdict(<class 'int'>, {'1': 174, '2': 92, '3': 74})\n",
      "defaultdict(<class 'int'>, {'1': 2, '2': 1, '3': 1})\n",
      "{'1': 87.0, '2': 92.0, '3': 74.0}\n"
     ]
    }
   ],
   "source": [
    "from csv import reader\n",
    "from collections import defaultdict\n",
    "file = reader(open(\"students_scores.csv\", encoding= \"utf-8\"))\n",
    "header = next(file)\n",
    "arr = []\n",
    "avg_s = defaultdict(int)\n",
    "c = defaultdict(int)\n",
    "for i in file:\n",
    "    avg_s[i[3]] += int(i[4])\n",
    "    c [i[3]] += 1\n",
    "print (avg_s)\n",
    "print (c)\n",
    "avg = {}\n",
    "avg = {course:avg_s[course] / c[course] for course in avg_s}\n",
    "print (avg)\n"
   ]
  },
  {
   "cell_type": "code",
   "execution_count": null,
   "metadata": {},
   "outputs": [
    {
     "name": "stdout",
     "output_type": "stream",
     "text": [
      "102400\n",
      "[' Мебель']\n"
     ]
    }
   ],
   "source": [
    "# Считает общий доход (количество проданных единиц * цена за единицу)\n",
    "# для каждой категории товаров.\n",
    "from csv import reader\n",
    "from collections import defaultdict\n",
    "file = (reader(open(\"students_scores.csv\", encoding= \"utf-8\")))\n",
    "header = next(file)\n",
    "di = defaultdict(int)\n",
    "for i in file:\n",
    "    di[i[1]]+=int(i[3])*int(i[2])\n",
    "mx = max(di.values())\n",
    "print (mx)\n",
    "p = [n for n , k in di.items() if k == mx]\n",
    "print (p)\n"
   ]
  },
  {
   "cell_type": "code",
   "execution_count": null,
   "metadata": {},
   "outputs": [],
   "source": [
    "from csv import writer\n",
    "file = open(\"cyka.csv\", \"w\", newline= \"\")\n",
    "file\n"
   ]
  },
  {
   "cell_type": "code",
   "execution_count": null,
   "metadata": {},
   "outputs": [
    {
     "name": "stdout",
     "output_type": "stream",
     "text": [
      " 1\n",
      "defaultdict(<class 'list'>, {' 1': ['12-11-23', '13-11-23', '12-12-23', '05-05-24']})\n"
     ]
    }
   ],
   "source": [
    "from csv import reader\n",
    "from collections import defaultdict\n",
    "file = reader(open(r\"C:\\Users\\ACER\\Desktop\\VSC\\AIT.PYTHON\\pro.csv\"))\n",
    "header = next(file)\n",
    "# def fun():\n",
    "#     d = defaultdict(int)\n",
    "#     arr = []\n",
    "#     for i in file:\n",
    "#         d[i[2]]+=int(i[1])\n",
    "#     for n,v in d.items():\n",
    "#         if v < 0:\n",
    "#             arr.append(n)\n",
    "#     return arr,d\n",
    "# # fun()          \n",
    "\n",
    "\n",
    "# di = defaultdict(int)\n",
    "# for i in file:\n",
    "#     m = (i[0][3:])\n",
    "#     di[m]+= int(i[1])  \n",
    "# print (di)\n",
    "m = defaultdict(list)\n",
    "for i in file:\n",
    "    id = i[2]\n",
    "    print (id)\n",
    "    for j in file:\n",
    "        if j[2] != id:\n",
    "            m[id].append(j[0])\n",
    "            \n",
    "print (m)\n",
    "\n",
    "\n",
    "  \n",
    "  "
   ]
  },
  {
   "cell_type": "code",
   "execution_count": 342,
   "metadata": {},
   "outputs": [
    {
     "ename": "ValueError",
     "evalue": "Unknown format code 'd' for object of type 'str'",
     "output_type": "error",
     "traceback": [
      "\u001b[1;31m---------------------------------------------------------------------------\u001b[0m",
      "\u001b[1;31mValueError\u001b[0m                                Traceback (most recent call last)",
      "Cell \u001b[1;32mIn[342], line 15\u001b[0m\n\u001b[0;32m     12\u001b[0m         \u001b[38;5;28;01mdel\u001b[39;00m \u001b[38;5;28mself\u001b[39m\u001b[38;5;241m.\u001b[39mmasters[name]\n\u001b[0;32m     14\u001b[0m shop \u001b[38;5;241m=\u001b[39m BarberShop()\n\u001b[1;32m---> 15\u001b[0m \u001b[43mshop\u001b[49m\u001b[38;5;241;43m.\u001b[39;49m\u001b[43maddMaster\u001b[49m\u001b[43m(\u001b[49m\u001b[38;5;124;43m\"\u001b[39;49m\u001b[38;5;124;43mDen\u001b[39;49m\u001b[38;5;124;43m\"\u001b[39;49m\u001b[43m,\u001b[49m\u001b[43m \u001b[49m\u001b[38;5;241;43m9\u001b[39;49m\u001b[43m,\u001b[49m\u001b[43m \u001b[49m\u001b[38;5;241;43m19\u001b[39;49m\u001b[43m,\u001b[49m\u001b[43m \u001b[49m\u001b[38;5;241;43m500\u001b[39;49m\u001b[43m)\u001b[49m\n\u001b[0;32m     16\u001b[0m shop\u001b[38;5;241m.\u001b[39maddMaster(\u001b[38;5;124m\"\u001b[39m\u001b[38;5;124mIbrashka\u001b[39m\u001b[38;5;124m\"\u001b[39m, \u001b[38;5;241m8\u001b[39m, \u001b[38;5;241m26\u001b[39m, \u001b[38;5;241m1500\u001b[39m)\n\u001b[0;32m     17\u001b[0m \u001b[38;5;66;03m# shop.cancelMaster(\"Den\")\u001b[39;00m\n",
      "Cell \u001b[1;32mIn[342], line 6\u001b[0m, in \u001b[0;36mBarberShop.addMaster\u001b[1;34m(self, name, start, end, prices)\u001b[0m\n\u001b[0;32m      5\u001b[0m \u001b[38;5;28;01mdef\u001b[39;00m \u001b[38;5;21maddMaster\u001b[39m(\u001b[38;5;28mself\u001b[39m, name, start, end, prices):\n\u001b[1;32m----> 6\u001b[0m     \u001b[38;5;28mself\u001b[39m\u001b[38;5;241m.\u001b[39mmasters[name] \u001b[38;5;241m=\u001b[39m {\u001b[38;5;124m\"\u001b[39m\u001b[38;5;124mschedule\u001b[39m\u001b[38;5;124m\"\u001b[39m : {\u001b[38;5;124mf\u001b[39m\u001b[38;5;124m'\u001b[39m\u001b[38;5;132;01m{\u001b[39;00mi\u001b[38;5;132;01m}\u001b[39;00m\u001b[38;5;124m:\u001b[39m\u001b[38;5;132;43;01m{\u001b[39;49;00m\u001b[43mj\u001b[49m\u001b[38;5;132;43;01m:\u001b[39;49;00m\u001b[38;5;132;43;01m{\u001b[39;49;00m\u001b[38;5;124;43m\"\u001b[39;49m\u001b[38;5;124;43md\u001b[39;49m\u001b[38;5;124;43m\"\u001b[39;49m\u001b[38;5;132;43;01m}\u001b[39;49;00m\u001b[38;5;132;43;01m}\u001b[39;49;00m\u001b[38;5;124m'\u001b[39m\u001b[38;5;28;01mfor\u001b[39;00m i \u001b[38;5;129;01min\u001b[39;00m \u001b[38;5;28mrange\u001b[39m(start, end\u001b[38;5;241m+\u001b[39m\u001b[38;5;241m1\u001b[39m) \u001b[38;5;28;01mfor\u001b[39;00m j \u001b[38;5;129;01min\u001b[39;00m [\u001b[38;5;124m\"\u001b[39m\u001b[38;5;124m00\u001b[39m\u001b[38;5;124m\"\u001b[39m]}, \u001b[38;5;124m\"\u001b[39m\u001b[38;5;124mprice\u001b[39m\u001b[38;5;124m\"\u001b[39m : prices }\n",
      "\u001b[1;31mValueError\u001b[0m: Unknown format code 'd' for object of type 'str'"
     ]
    }
   ],
   "source": [
    "class BarberShop:\n",
    "    def __init__(self):\n",
    "        self.masters = {}\n",
    "    \n",
    "    def addMaster(self, name, start, end, prices):\n",
    "        self.masters[name] = {\"schedule\" : {f'{i}:{j:{\"d\"}}'for i in range(start, end+1) for j in [\"00\"]}, \"price\" : prices }\n",
    "    \n",
    "    def getMasters(self):\n",
    "        return self.masters\n",
    "    \n",
    "    def cancelMaster(self, name):\n",
    "        del self.masters[name]\n",
    "        \n",
    "shop = BarberShop()\n",
    "shop.addMaster(\"Den\", 9, 19, 500)\n",
    "shop.addMaster(\"Ibrashka\", 8, 26, 1500)\n",
    "# shop.cancelMaster(\"Den\")\n",
    "shop.getMasters()"
   ]
  },
  {
   "cell_type": "code",
   "execution_count": null,
   "metadata": {},
   "outputs": [
    {
     "name": "stdout",
     "output_type": "stream",
     "text": [
      "10\n",
      "6\n",
      "4\n",
      "2\n",
      "11\n",
      "9\n",
      "7\n",
      "5\n",
      "3\n",
      "1\n"
     ]
    }
   ],
   "source": [
    "arr= [1,3,5,7,9,11,2,4,6,10]\n",
    "for i in range(len(arr) -1,-1,-1):\n",
    "    print (arr[i])\n",
    "    "
   ]
  },
  {
   "cell_type": "code",
   "execution_count": 76,
   "metadata": {},
   "outputs": [
    {
     "name": "stdout",
     "output_type": "stream",
     "text": [
      "[1, 1, 1, 1, 0, 1]\n"
     ]
    }
   ],
   "source": [
    "from random import randint\n",
    "\n",
    "arr = []\n",
    "while sum(arr) != 5:\n",
    "    num = randint(0, 10)\n",
    "    if sum(arr) + num <= 5:\n",
    "        arr.append(num)\n",
    "        if len(arr)>5:   # Добавляем число только если итоговая сумма не превысит 5\n",
    "            print(arr)\n",
    "            break\n"
   ]
  },
  {
   "cell_type": "code",
   "execution_count": null,
   "metadata": {},
   "outputs": [],
   "source": []
  },
  {
   "cell_type": "code",
   "execution_count": null,
   "metadata": {},
   "outputs": [],
   "source": [
    "\n",
    "\n"
   ]
  },
  {
   "cell_type": "code",
   "execution_count": null,
   "metadata": {},
   "outputs": [
    {
     "name": "stdout",
     "output_type": "stream",
     "text": [
      "51\n"
     ]
    }
   ],
   "source": []
  },
  {
   "cell_type": "code",
   "execution_count": 11,
   "metadata": {},
   "outputs": [
    {
     "name": "stdout",
     "output_type": "stream",
     "text": [
      "magazin\n",
      "5\n",
      "\n",
      "45\n",
      "7\n",
      "34\n",
      "33\n",
      "59\n"
     ]
    }
   ],
   "source": [
    "from random import randint\n",
    "arr = ['biblioteka', \n",
    "'parkovka',\n",
    "'kinoteatr',\n",
    "'optima',\n",
    "'aviabilety',\n",
    "'magazin',\n",
    "'barbershop']\n",
    "\n",
    "print(arr[randint(0, len(arr)-1)])\n",
    "\n",
    "N = randint(0, 5)\n",
    "print(N)\n",
    "print()\n",
    "for i in range(N):\n",
    "    print(randint(0, 62))\n"
   ]
  },
  {
   "cell_type": "code",
   "execution_count": 337,
   "metadata": {},
   "outputs": [
    {
     "name": "stdout",
     "output_type": "stream",
     "text": [
      "22 days, 15:24:57.127643\n"
     ]
    }
   ],
   "source": [
    "import datetime\n",
    "# date = datetime.date(2005,2,17)\n",
    "# print(date)\n",
    "# toDay = datetime.date.today()\n",
    "# print(toDay.day)\n",
    "# print(toDay.isoweekday())\n",
    "# now = datetime.datetime.now()\n",
    "# now = now.strftime(\"%H : %M : %S\" )\n",
    "# print(now) \n",
    "birthday = datetime.datetime(2024, 12, 17, 12, 30, 0)\n",
    "toDay= datetime.datetime.now()\n",
    "print(birthday- toDay)\n",
    "# print(toDay)\n",
    "\n"
   ]
  },
  {
   "cell_type": "code",
   "execution_count": 477,
   "metadata": {},
   "outputs": [
    {
     "name": "stdout",
     "output_type": "stream",
     "text": [
      "It'll cost 15$ for day ,Thank you Den for choose us !!!\n",
      "sorry Ibrashka room number 5 is already reserved, but [1, 2] and 8 rooms are free \n",
      "60\n",
      "Bye Den\n"
     ]
    }
   ],
   "source": [
    "from collections import defaultdict\n",
    "\n",
    "class Hotel:\n",
    "    def __init__(self):\n",
    "        self.rooms = {i : {\"status\" : True} for i in range(1,101)} \n",
    "        self.guest = defaultdict(int)\n",
    "        self.balance = 0\n",
    "        \n",
    "    def freeRooms(self):\n",
    "        freeRooms = [i for i in self.rooms if self.rooms[i][\"status\"] == True]\n",
    "        return freeRooms\n",
    "    \n",
    "    def reserve(self,name, phone, room, day = 1):\n",
    "        self.guest[name] = phone\n",
    "        if self.rooms[room][\"status\"] == True:\n",
    "            self.rooms[room][\"status\"] = name\n",
    "            self.balance+= day * 15\n",
    "            return(f\"It'll cost 15$ for day ,Thank you {name} for choose us !!!\")\n",
    "        else:\n",
    "            arr = self.freeRooms()\n",
    "            return(f\"sorry {name} room number {room} is already reserved, but {arr[:2]} and {arr[room]+1} rooms are free \")\n",
    "\n",
    "    def getBalance(self):\n",
    "        return self.balance\n",
    "    \n",
    "    def delReserve(self,name,room):\n",
    "        if self.rooms[room][\"status\"] == name:\n",
    "            self.rooms[room][\"status\"] = True\n",
    "        return f\"Bye {name}\"\n",
    "\n",
    "Karimov = Hotel()\n",
    "print(Karimov.reserve(\"Den\", 550808477, 5, 4))\n",
    "print(Karimov.reserve(\"Ibrashka\", 220672013, 5, 4))\n",
    "print(Karimov.getBalance())\n",
    "print(Karimov.delReserve(\"Den\", 5))"
   ]
  },
  {
   "cell_type": "code",
   "execution_count": null,
   "metadata": {},
   "outputs": [
    {
     "name": "stdout",
     "output_type": "stream",
     "text": [
      "[<__main__.Flight object at 0x000001DDAC613C50>]\n",
      "[<__main__.Flight object at 0x000001DDAC613C50>, <__main__.Flight object at 0x000001DDAC5E8680>]\n",
      "Рейс 1: Bishkek -> Almaty, Свободные места: [1, 2, 3, 4, 5, 6, 7, 8, 9, 10]\n",
      "Рейс 2: Bishkek -> Dubai, Свободные места: [1, 2, 3, 4, 5, 6, 7, 8, 9, 10]\n",
      "Ali in 3\n",
      "3 connot be reserv in 1\n",
      "Zara in 4\n"
     ]
    }
   ],
   "source": [
    "class Flight:\n",
    "    def __init__(self,flightNumber, origin, destination):\n",
    "        self.flightNumber = flightNumber\n",
    "        self.origin = origin\n",
    "        self.destination = destination\n",
    "        self.seats = {i: True for i in range(1,11)}    \n",
    "        \n",
    "    def availableSeats(self):\n",
    "        availableSeats = [i for i in self.seats if self.seats[i] == True]\n",
    "        return availableSeats\n",
    "    \n",
    "    def bookSeat(self, seatNumber):\n",
    "        if self.seats[seatNumber] == True:\n",
    "            self.seats[seatNumber] = False\n",
    "\n",
    "class Passenger:\n",
    "    def __init__(self, name, passport):\n",
    "        self.name = name\n",
    "        self.passport = passport\n",
    "        \n",
    "class Aviasales:\n",
    "    def __init__(self):\n",
    "        self.flights = []\n",
    "        \n",
    "    def addFlight(self,origin, destination):\n",
    "        newFlight = Flight(len(self.flights)+1, origin, destination)\n",
    "        self.flights.append(newFlight)\n",
    "        print(self.flights)\n",
    "        \n",
    "    def bookFlight(self,passenger,flightNumber, seatNumber):\n",
    "        for flight in self.flights:\n",
    "            if flight.flightNumber == flightNumber:\n",
    "                if seatNumber in flight.seats and flight.seats[seatNumber]:\n",
    "                    flight.bookSeat(seatNumber)     \n",
    "                    print(f\"{passenger.name} in {seatNumber}\")\n",
    "                else:\n",
    "                    print(f\"{seatNumber} connot be reserv in {flightNumber}\")\n",
    "                        \n",
    "    def showFlights(self):\n",
    "        for flight in self.flights:\n",
    "            print(f\"Рейс {flight.flightNumber}: {flight.origin} -> {flight.destination}, Свободные места: {flight.availableSeats()}\")\n",
    "\n",
    "\n",
    "# Создаем систему\n",
    "system = Aviasales()\n",
    "\n",
    "# Добавляем рейсы\n",
    "system.addFlight(\"Bishkek\", \"Almaty\")\n",
    "system.addFlight(\"Bishkek\", \"Dubai\")\n",
    "\n",
    "# Пассажиры\n",
    "passenger1 = Passenger(\"Ali\", \"AB123456\")\n",
    "passenger2 = Passenger(\"Zara\", \"CD789012\")\n",
    "\n",
    "# Показываем доступные рейсы\n",
    "system.showFlights()\n",
    "\n",
    "# Бронирование\n",
    "system.bookFlight(passenger1, 1, 3)  # Забронирует место 3 на рейсе 1\n",
    "system.bookFlight(passenger2, 1, 3)  # Ошибка, место уже занято\n",
    "system.bookFlight(passenger2, 1, 4)  # Забронирует место 4 на рейсе 1\n"
   ]
  },
  {
   "cell_type": "code",
   "execution_count": 25,
   "metadata": {},
   "outputs": [
    {
     "name": "stdout",
     "output_type": "stream",
     "text": [
      "['2024', '11', '25']\n"
     ]
    }
   ],
   "source": [
    "import datetime \n",
    "now = datetime.datetime.now()\n",
    "toDay =\"2024-11-25\"\n",
    "print(toDay.split(\"-\"))\n"
   ]
  },
  {
   "cell_type": "code",
   "execution_count": 115,
   "metadata": {},
   "outputs": [
    {
     "name": "stdout",
     "output_type": "stream",
     "text": [
      "{'It': {'график': {'14:00': 50, '16:00': 50}, 'касса': 0}}\n",
      "{'It': {'график': {'14:00': 50, '16:00': 50}, 'касса': 0}, 'avatar': {'график': {'12:00': 50, '14:00': 50}, 'касса': 0}}\n",
      "{'It': {'график': {'13:00': 50, '20:00': 50}, 'касса': 0}, 'avatar': {'график': {'12:00': 50, '14:00': 50}, 'касса': 0}}\n",
      "{'It': {'график': {'13:00': 50, '20:00': 50}, 'касса': 0}, 'avatar': {'график': {'12:00': 50, '14:00': 50}, 'касса': 0}}\n",
      "{'It': {'график': {'13:00': 50, '20:00': 50}, 'касса': 0}, 'avatar': {'график': {'12:00': 50, '14:00': 50}, 'касса': 0}}\n",
      "0\n"
     ]
    }
   ],
   "source": [
    "from collections import defaultdict\n",
    "class Cinema:\n",
    "    def __init__(self, price):\n",
    "        self.price = price\n",
    "        self.movies = {}\n",
    "        self.tickets = {}\n",
    "\n",
    "    def add_movie(self, name, schedule, quantity):\n",
    "        self.movies[name] = {\"график\" : {time: quantity for time in schedule}, \"касса\" : 0}\n",
    "        return self.movies\n",
    "    \n",
    "    def remove_movie(self, name):\n",
    "        del self.movies[name]\n",
    "        return \n",
    "    \n",
    "    def update_schedule(self, name, new_schedule):\n",
    "        self.movies[name][\"график\"] = {time : self.movies[name][\"график\"].get(time,50) for time in new_schedule}\n",
    "        return self.movies\n",
    "    \n",
    "    def book_ticket(self, name, date):\n",
    "        if name in self.movies and date in self.movies[name][\"график\"]:\n",
    "            if self.movies[name][\"график\"][date] > 0:\n",
    "                self.movies[name][\"quantity\"]-= 1\n",
    "                self.movies[name][\"касса\"] += self.price \n",
    "                self.tickets[len(self.tickets)+1] = {\"name\" : name, \"time\" : date}\n",
    "        return self.movies\n",
    "\n",
    "    def refund_ticket(self, booking_id):\n",
    "        if booking_id in self.tickets:\n",
    "            name = self.tickets[booking_id][\"name\"]\n",
    "            self.movies[name][\"quantity\"] += 1\n",
    "            self.movies[name][\"касса\"] -= self.price\n",
    "        return self.movies\n",
    "    \n",
    "    def earnings(self, name):\n",
    "        return self.movies[name][\"касса\"]\n",
    "    \n",
    "Asia = Cinema(220)\n",
    "print(Asia.add_movie(\"It\", [\"14:00\", \"16:00\"],50))\n",
    "print(Asia.add_movie(\"avatar\", [\"12:00\", \"14:00\"], 50))\n",
    "print(Asia.update_schedule(\"It\", [\"13:00\", \"20:00\"]))\n",
    "print(Asia.book_ticket(\"It\", \"23;43\"))\n",
    "# print(Asia.book_ticket(\"It\", \"23;43\"))\n",
    "# print(Asia.book_ticket(\"It\", \"23;43\"))\n",
    "# print(Asia.book_ticket(\"It\", \"23;43\"))\n",
    "# print(Asia.book_ticket(\"It\", \"23;43\"))\n",
    "print(Asia.refund_ticket(1))\n",
    "print(Asia.earnings(\"It\"))\n",
    "\n"
   ]
  },
  {
   "cell_type": "code",
   "execution_count": 161,
   "metadata": {},
   "outputs": [
    {
     "name": "stdout",
     "output_type": "stream",
     "text": [
      "(4, 'den')\n"
     ]
    }
   ],
   "source": [
    "from collections import defaultdict\n",
    "class Student:\n",
    "    def __init__(self, name,passport ) -> None:\n",
    "        self.name = name\n",
    "        self.passport = passport\n",
    "        \n",
    "    def get_name(self):\n",
    "        return self.name\n",
    "    \n",
    "    def get_id(self):\n",
    "        return self.passport\n",
    "\n",
    "class Subject:\n",
    "    def __init__(self,sub) -> None:\n",
    "        self.sub = sub\n",
    "\n",
    "class Ebilim:\n",
    "    def __init__(self):\n",
    "        self.students = defaultdict(dict)\n",
    "\n",
    "    def add_student(self, name, passport): \n",
    "        self.students[name] = Student(name, passport)\n",
    "        return(self.students)\n",
    "\n",
    "    def remove_student(self, passport):\n",
    "        pass\n",
    "\n",
    "    def add_grade(self, student, sabak, grade):\n",
    "        pass\n",
    "    \n",
    "    def update_grade(self, student, sabak, grade):\n",
    "        pass\n",
    "\n",
    "    def add_class(self, sabak):\n",
    "        pass\n",
    "\n",
    "    def remove_class(self, sabak):\n",
    "        pass\n",
    "    \n",
    "    def register_to_class(self, student, sabak):\n",
    "        pass\n",
    "\n",
    "    def unregister_from_class(self, student, sabak):\n",
    "        pass\n",
    "    \n",
    "    def get_students_name(self):\n",
    "        for n , v in self.students.items():\n",
    "            print((v.get_id(), v.get_name()))\n",
    "    \n",
    "Ait = Ebilim()\n",
    "Ait.add_student(\"den\", 4)\n",
    "Ait.get_students_name()\n"
   ]
  },
  {
   "cell_type": "code",
   "execution_count": null,
   "metadata": {},
   "outputs": [],
   "source": [
    "class Flight: \n",
    "    def _init_(self,date,origin,destination):\n",
    "        self.date=date\n",
    "        self.origin=origin\n",
    "        self.destination=destination\n",
    "        self.id=self.date+self.origin+self.destination #unikalnyi Id\n",
    "\n",
    "    def get_id(self):\n",
    "        return  self.id\n",
    "    \n",
    "    def change(self,date,origin,destination):\n",
    "        self.date=date\n",
    "        self.origin=origin\n",
    "        self.destination=destination\n",
    "\n",
    "class Passenger:\n",
    "    def _init_(self,id):\n",
    "        self.id=id\n",
    "\n",
    "\n",
    "\n",
    "from collections import defaultdict\n",
    "class Aviasales:\n",
    "    def _init_(self):\n",
    "        self.flights=[]\n",
    "        self.bookings=defaultdict(list) \n",
    "        self.count=100\n",
    "\n",
    "    def add_flight(self,flight):\n",
    "        self.flights.append(flight)\n",
    "\n",
    "\n",
    "    def remove_flight(self,flight):\n",
    "        self.flights.remove(flight)\n",
    "\n",
    "\n",
    "    def book_flight(self,passenger,flight):\n",
    "        self.bookings[flight.get_id()].append(passenger)\n",
    "\n",
    "\n",
    "    def cancel_booking(self,passenger,flight):\n",
    "        self.bookings[flight.get_id()].remove(passenger)\n",
    "\n",
    "    def change_flight(self,flight,new_flight):\n",
    "        flight.change(new_flight.date,new_flight.origin,new_flight.destination)\n",
    "\n",
    "    def getFlightSchedule(self,from_date,to_date):\n",
    "        arr=[]\n",
    "\n",
    "        for flight in self.flights:\n",
    "            if from_date<=flight.date<=to_date:\n",
    "                arr.append(flight.get_id())\n",
    "\n",
    "        return arr\n",
    "    \n",
    "    def getAvailableSeatCount(self,flight):\n",
    "        self.count-len(self.bookings[flight.get_id()])"
   ]
  },
  {
   "cell_type": "code",
   "execution_count": 34,
   "metadata": {},
   "outputs": [
    {
     "name": "stdout",
     "output_type": "stream",
     "text": [
      "20241125\n"
     ]
    },
    {
     "data": {
      "text/plain": [
       "'Gulnur\\nAtai'"
      ]
     },
     "execution_count": 34,
     "metadata": {},
     "output_type": "execute_result"
    }
   ],
   "source": [
    "class Movie:\n",
    "    def __init__(self, name, schedule):\n",
    "        self.name = name\n",
    "        self.schedule = schedule\n",
    "        self.clients = []\n",
    "\n",
    "    def book_ticket(self, client):\n",
    "        self.clients.append(client)\n",
    "    \n",
    "    def remove_client(self, client):\n",
    "        self.clients.remove(client)\n",
    "    \n",
    "    def get_availabe_seats(self):\n",
    "        return len(self.clients)\n",
    "    \n",
    "    def get_details(self):\n",
    "        return self.name + ' ' + self.schedule\n",
    "\n",
    "class Client:\n",
    "    def __init__(self, name):\n",
    "        self.name = name\n",
    "        self.movies = []\n",
    "    \n",
    "    def book_ticket(self, movie):\n",
    "        self.movies.append(movie)\n",
    "    \n",
    "    def remove_movie(self, movie):\n",
    "        self.movies.remove(movie)\n",
    "    \n",
    "    def get_booked_movies(self):\n",
    "        arr = []\n",
    "        for i in self.movies: # i это объект класса Movie\n",
    "            arr.append(i.name)\n",
    "        return f\"{self.name} booked {arr} movies\"\n",
    "    \n",
    "class Cinema:\n",
    "    def __init__(self):\n",
    "        self.movies = []\n",
    "        self.cost = 500\n",
    "        self.percentage = 0.4\n",
    "        self.booking_ids = {}\n",
    "\n",
    "    \n",
    "    def add_movie(self, movie):\n",
    "        self.movies.append(movie)\n",
    "    \n",
    "    def remove_movie(self, movie):\n",
    "        self.movies.remove(movie)\n",
    "    \n",
    "    def list_movies(self):\n",
    "        return '\\n'.join([i.get_details() for i in self.movies])\n",
    "\n",
    "    def book_ticket(self, movie, client):\n",
    "        id = movie.get_details() + client.name\n",
    "        self.booking_ids[id] = (client, movie)\n",
    "        movie.book_ticket(client)\n",
    "        client.book_ticket(movie)\n",
    "        return id\n",
    "\n",
    "    def cancel_ticket(self, booking_id):\n",
    "        client, movie = self.booking_ids[booking_id]\n",
    "        movie.remove_client(client)\n",
    "        client.remove_movie(movie)\n",
    "    \n",
    "    def get_seating_plan(self, movie):\n",
    "        return movie.clients\n",
    "\n",
    "    def get_total_cost(self, movie):\n",
    "        return len(movie.clients) * self.cost\n",
    "\n",
    "    def get_total_profit(self):\n",
    "        return sum([len(movie.clients) for movie in self.movies]) * self.cost * self.percentage\n",
    "\n",
    "    def get_customers_who_watched_multiple_films(self):\n",
    "        from collections import defaultdict\n",
    "        d = defaultdict(int)\n",
    "        for movie in self.movies:\n",
    "            for client in movie.clients:\n",
    "                d[client] += 1\n",
    "        arr = []\n",
    "        for client, count in d.items():\n",
    "            if count > 1:\n",
    "                arr.append(client.name)\n",
    "        return '\\n'.join(arr)\n",
    "    \n",
    "\n",
    "m1 = Movie(\"Chaplin\", \"20241125\") #создание объекта m1 из класса Movie\n",
    "m2 = Movie(\"Chaplin\", \"20241126\")\n",
    "m3 = Movie(\"Gladiator 2\", \"20241125\")\n",
    "print(m1.schedule)\n",
    "\n",
    "c1 = Client(\"Gulnur\")\n",
    "c2 = Client(\"Atai\")\n",
    "c3 = Client(\"Bars\")\n",
    "\n",
    "cinema = Cinema()\n",
    "cinema.add_movie(m1)\n",
    "cinema.add_movie(m2)\n",
    "cinema.add_movie(m3)\n",
    "\n",
    "b1 = cinema.book_ticket(m1, c1) \n",
    "b2 = cinema.book_ticket(m2, c1)\n",
    "b3 = cinema.book_ticket(m1, c2) # и здесь я его записываю в массив в виде объекта \n",
    "b4 = cinema.book_ticket(m3, c2)\n",
    "\n",
    "c2.get_booked_movies()\n",
    "\n",
    "print([c.name for c in m1.clients]) # массив клиентов этого фильма \n",
    "cinema.cancel_ticket(b1)\n",
    "print([c.name for c in m1.clients])\n",
    "cinema.book_ticket(m1, c1)\n",
    "cinema.get_total_cost(m1)\n",
    "\n",
    "cinema.get_customers_who_watched_multiple_films()"
   ]
  },
  {
   "cell_type": "code",
   "execution_count": 71,
   "metadata": {},
   "outputs": [
    {
     "name": "stdout",
     "output_type": "stream",
     "text": [
      "3\n",
      "9\n"
     ]
    }
   ],
   "source": [
    "class Book:\n",
    "    def __init__(self, nameOfBook, author, quantityOfBook) -> None:\n",
    "        self.clients = []\n",
    "        self.nameOfBook = nameOfBook\n",
    "        self.author = author\n",
    "        self.quantityOfBook = quantityOfBook\n",
    "        \n",
    "    def rentBook(self, client):\n",
    "        self.clients.append(client)\n",
    "        \n",
    "    def returnBook(self,book):\n",
    "        self.clients.remove(book)\n",
    "       \n",
    "    def getClients(self):\n",
    "        return [i.name for i in self.clients]\n",
    "        \n",
    "class Reader:\n",
    "    def __init__(self, name) -> None:\n",
    "        self.books = []\n",
    "        self.name = name \n",
    "        self.limit = 7\n",
    "        \n",
    "    def rentBook(self, book):\n",
    "        if book.quantityOfBook > 0:\n",
    "            book.quantityOfBook -= 1\n",
    "        self.books.append(book)\n",
    "        \n",
    "    def returnBook(self,book):\n",
    "        book.quantityOfBook += 1\n",
    "        self.books.remove(book)\n",
    "        \n",
    "    def getBooks(self):\n",
    "        return [i.nameOfBook for i in self.books]\n",
    "    \n",
    "class Library:\n",
    "    def __init__(self) -> None:\n",
    "        self.books = []\n",
    "    \n",
    "    def rentBook(self, book, client):\n",
    "        if client.limit > 0:\n",
    "            book.rentBook(client)\n",
    "            client.rentBook(book)\n",
    "            client.limit -= 1\n",
    "            \n",
    "        \n",
    "    def returnBook(self, book, client):\n",
    "        book.returnBook(client)\n",
    "        client.returnBook(book)\n",
    "        client.limit += 1\n",
    "    \n",
    "    def addBook(self, book):\n",
    "        self.books.append(book)\n",
    "    \n",
    "    def deleteBook(self, book):\n",
    "        self.books.remove(book)\n",
    "    \n",
    "    def quantityOfRentBook(self):\n",
    "        quantity = sum(len(book.clients) for book in self.books)\n",
    "        return quantity\n",
    "    \n",
    "    \n",
    "b1 = Book(\"Jeck London\", \"Jeck\", 10)\n",
    "b2 = Book(\"Master\", \"Margarita\", 17)\n",
    "r1 = Reader(\"den\")\n",
    "r2 = Reader(\"ibrashka\")\n",
    "\n",
    "Library = Library() \n",
    "Library.addBook(b1)   \n",
    "Library.addBook(b2)  \n",
    "Library.rentBook(b1, r1)\n",
    "Library.rentBook(b2, r1) \n",
    "Library.rentBook(b1, r2) \n",
    "Library.rentBook(b2, r2)\n",
    "Library.returnBook(b1,r1) \n",
    "print(Library.quantityOfRentBook())\n",
    "b1.getClients()\n",
    "r1.getBooks()\n",
    "print(b1.quantityOfBook)\n"
   ]
  },
  {
   "cell_type": "code",
   "execution_count": null,
   "metadata": {},
   "outputs": [
    {
     "name": "stdout",
     "output_type": "stream",
     "text": [
      "Counter({2: 2, 8: 2, 9: 2, 1: 1, 3: 1, 4: 1, 5: 1, 6: 1, 7: 1})\n",
      "2\n",
      "Список чисел с максимальной частотой: [(2, 2), (8, 2), (9, 2)]\n",
      "Минимальный элемент (лексикографически): (2, 2)\n"
     ]
    }
   ],
   "source": [
    "\n",
    "from collections import Counter\n",
    "\n",
    "arr1 = [1, 2, 2, 3, 4, 5, 6, 7, 8, 8, 9, 9]\n",
    "\n",
    "# Подсчет частот элементов\n",
    "count = Counter(arr1)\n",
    "print (count)\n",
    "\n",
    "# Нахождение максимальной частоты\n",
    "max_count = max(count.values())\n",
    "print(max_count)\n",
    "\n",
    "# Нахождение всех чисел с максимальной частотой\n",
    "arr = [(k, v) for k, v in count.items() if v == max_count]\n",
    "\n",
    "# Вывод результата\n",
    "print(\"Список чисел с максимальной частотой:\", arr)\n",
    "print(\"Минимальный элемент (лексикографически):\", min(arr))\n",
    "\n"
   ]
  },
  {
   "cell_type": "code",
   "execution_count": 3,
   "metadata": {},
   "outputs": [
    {
     "name": "stdout",
     "output_type": "stream",
     "text": [
      "{42, 75, 14, 23}\n"
     ]
    },
    {
     "data": {
      "text/plain": [
       "[23, 42, 23, 2, 14, 5, 75, 4, 7]"
      ]
     },
     "execution_count": 3,
     "metadata": {},
     "output_type": "execute_result"
    }
   ],
   "source": [
    "arr = [1, 2, 2, 3, 4, 5, 6, 7, 8, 8, 9, 9]\n",
    "arr1 = [23,42,23,2,14,5,75,4,7]\n",
    "\n",
    "print(set(arr1) - set(arr))\n",
    "\n",
    "\n",
    "max(arr1, arr)"
   ]
  },
  {
   "cell_type": "code",
   "execution_count": 42,
   "metadata": {},
   "outputs": [
    {
     "name": "stdout",
     "output_type": "stream",
     "text": [
      "[4, 2, 2]\n",
      "[8, 9, 9]\n",
      "[[(4, 8)], [(2, 9)], [(2, 9)]]\n"
     ]
    }
   ],
   "source": [
    "from random import randint \n",
    "matrix = [[randint(1, 9) for _ in range (3)] for i in range (2)]\n",
    "for i in matrix:\n",
    "    print(i)\n",
    "    \n",
    "s = []\n",
    "for i in range(len(matrix[0])):\n",
    "    a = []\n",
    "    for j in range(len(matrix)-1):\n",
    "        a.append((matrix[j][i], matrix[j+1][i]))\n",
    "    s.append(a)\n",
    "\n",
    "print(s)"
   ]
  },
  {
   "cell_type": "code",
   "execution_count": 1,
   "metadata": {},
   "outputs": [
    {
     "name": "stdout",
     "output_type": "stream",
     "text": [
      "18144\n"
     ]
    }
   ],
   "source": [
    "print((lambda x,y: x*y)(324,56))"
   ]
  },
  {
   "cell_type": "code",
   "execution_count": 2,
   "metadata": {},
   "outputs": [
    {
     "name": "stdout",
     "output_type": "stream",
     "text": [
      "4202:0111:21\n"
     ]
    }
   ],
   "source": [
    "arr = \"12:1110:2024\"\n",
    "print(arr[::-1])\n"
   ]
  },
  {
   "cell_type": "code",
   "execution_count": null,
   "metadata": {},
   "outputs": [],
   "source": [
    "import numpy as np\n",
    "import matplotlib.pyplot as plt\n",
    "import scipy.stats as stats\n",
    "\n",
    "# Количество подбрасываний кубика\n",
    "num_throws = 10000\n",
    "num_dice = 10000  # Количество кубиков, подбрасываемых за раз\n",
    "\n",
    "# Моделирование подбрасываний кубика\n",
    "np.random.seed(0)\n",
    "rolls = np.random.randint(1, 7, size=(num_throws, num_dice))\n",
    "sums = rolls.sum(axis=1)\n",
    "\n",
    "# Расчёт среднего и стандартного отклонения\n",
    "mu = np.mean(sums)\n",
    "sigma = np.std(sums)\n",
    "\n",
    "# Создание массива значений\n",
    "x = np.linspace(mu - 4*sigma, mu + 4*sigma, 1000)\n",
    "pdf = stats.norm.pdf(x, mu, sigma)\n",
    "\n",
    "# Построение гистограммы и графика нормального распределения\n",
    "plt.figure(figsize=(10, 6))\n",
    "plt.hist(sums, bins=30, density=True, alpha=0.6, color='g', label='Гистограмма сумм подбрасываний')\n",
    "plt.plot(x, pdf, label='Нормальное распределение', color='blue')\n",
    "\n",
    "# Добавление вертикальной линии для среднего значения\n",
    "plt.axvline(mu, color='red', linestyle='--', label='Среднее значение')\n",
    "\n",
    "# Добавление легенды\n",
    "plt.legend()\n",
    "\n",
    "# Добавление заголовка и подписей осей\n",
    "plt.title(f'Распределение сумм {num_dice+10000} подбрасываний кубика')\n",
    "plt.xlabel('Сумма значений')\n",
    "plt.ylabel('Плотность вероятности')\n",
    "\n",
    "# Отображение графика\n",
    "plt.grid(True)\n",
    "plt.show()"
   ]
  },
  {
   "cell_type": "code",
   "execution_count": 11,
   "metadata": {},
   "outputs": [
    {
     "name": "stdout",
     "output_type": "stream",
     "text": [
      "Среднее значение (μ): 35.0816\n",
      "Стандартное отклонение (σ): 5.392888814445973\n"
     ]
    }
   ],
   "source": [
    "import numpy as np\n",
    "\n",
    "num_throws = 10000\n",
    "num_dice = 10\n",
    "\n",
    "np.random.seed(0)\n",
    "rolls = np.random.randint(1, 7, size=(num_throws, num_dice))\n",
    "sums = rolls.sum(axis=1)\n",
    "\n",
    "mu = np.mean(sums)\n",
    "sigma = np.std(sums, ddof=1)  \n",
    "\n",
    "print(f\"Среднее значение (μ): {mu}\")\n",
    "print(f\"Стандартное отклонение (σ): {sigma}\")"
   ]
  },
  {
   "cell_type": "code",
   "execution_count": null,
   "metadata": {},
   "outputs": [
    {
     "name": "stdout",
     "output_type": "stream",
     "text": [
      "{0: None, 1: None, 2: None, 3: 'den', 4: None, 5: None, 6: None, 7: None, 8: None, 9: None, 10: None, 11: None, 12: None, 13: None, 14: None, 15: None, 16: None, 17: None, 18: None, 19: None}\n"
     ]
    }
   ],
   "source": [
    "class Cinema:\n",
    "    def __init__(self,name, quantity):\n",
    "        self.name = name\n",
    "        self.seats = {i: None for i in range(quantity)}\n",
    "        self.quantity = quantity\n",
    "        self.a = []\n",
    "        self.b = []\n",
    "    \n",
    "    def show(self):\n",
    "        for i in range(self.quantity):\n",
    "            if self.seats[i] == None:\n",
    "                self.a.append(i)\n",
    "            else:\n",
    "                self.b.append((i,self.seats[i]))\n",
    "        print(self.name)\n",
    "        print(self.a)\n",
    "        print(self.b)\n",
    "    \n",
    "    def book(self,name,seat):\n",
    "        if self.seats[seat] == None:\n",
    "            self.seats[seat] = name\n",
    "            print(self.seats)\n",
    "            \n",
    "    def cancel(self,seat):\n",
    "        self.seats[seat] = None\n",
    "        print(self.seats)\n",
    "        \n",
    "        \n",
    "cinema = Cinema(\"Den\", 20)\n",
    "cinema.book(\"den\", 3) \n",
    "cinema.book(\"ibra\", 3)        \n",
    "cinema.cancel(3)  \n",
    "cinema.show()\n"
   ]
  },
  {
   "cell_type": "code",
   "execution_count": 25,
   "metadata": {},
   "outputs": [
    {
     "name": "stdout",
     "output_type": "stream",
     "text": [
      "20250304 2020430\n"
     ]
    }
   ],
   "source": [
    "arr = ['31-12-2024', '03-01-2025', '30-4-2020', '04-03-2025']\n",
    "new_arr = []\n",
    "for i in arr:\n",
    "    date = i.split(\"-\")\n",
    "    day = date[0]\n",
    "    month = date[1]\n",
    "    year = date[2]\n",
    "    new_date = year+month+day\n",
    "    new_arr.append(new_date)\n",
    "print(max(new_arr), min(new_arr))\n",
    "    \n"
   ]
  },
  {
   "cell_type": "code",
   "execution_count": 26,
   "metadata": {},
   "outputs": [
    {
     "name": "stdout",
     "output_type": "stream",
     "text": [
      "2025-03-04 00:00:00 2020-04-30 00:00:00\n"
     ]
    }
   ],
   "source": [
    "from datetime import datetime\n",
    "arr = ['31-12-2024', '03-01-2025', '30-4-2020', '04-03-2025']\n",
    "dates = [datetime.strptime(date, '%d-%m-%Y') for date in arr]\n",
    "print(max(dates), min(dates))"
   ]
  },
  {
   "cell_type": "code",
   "execution_count": 40,
   "metadata": {},
   "outputs": [
    {
     "name": "stdout",
     "output_type": "stream",
     "text": [
      "2025-12-31 12:12:12\n",
      "12-2025-31\n"
     ]
    }
   ],
   "source": [
    "from datetime import datetime\n",
    "input = '31-12-2025 12:12:12'\n",
    "dates = datetime.strptime(input,'%d-%m-%Y %H:%M:%S')\n",
    "new_format = dates.strftime('%m-%Y-%d')\n",
    "print(dates)\n",
    "print(new_format)"
   ]
  },
  {
   "cell_type": "code",
   "execution_count": 61,
   "metadata": {},
   "outputs": [
    {
     "name": "stdout",
     "output_type": "stream",
     "text": [
      "7\n",
      "1\n",
      "19\n",
      "3.8\n"
     ]
    }
   ],
   "source": [
    "d = {'a': 1,'b': 2,'c': 7,'d': 4,'e': 5}\n",
    "m = float('-inf')\n",
    "mx = float('inf')\n",
    "s = 0\n",
    "avg = 0\n",
    "for i in d:\n",
    "    if d[i]>m:\n",
    "        m = d[i]\n",
    "    if d[i]<mx:\n",
    "        mx = d[i]\n",
    "    s+= d[i]\n",
    "    avg = s/len(d)\n",
    "print(m)\n",
    "print(mx)\n",
    "print(s)\n",
    "print(avg)\n"
   ]
  },
  {
   "cell_type": "code",
   "execution_count": 65,
   "metadata": {},
   "outputs": [
    {
     "name": "stdout",
     "output_type": "stream",
     "text": [
      "1\n",
      "7\n",
      "3.8\n"
     ]
    }
   ],
   "source": [
    "d = {'a': 1,'b': 2,'c': 7,'d': 4,'e': 5}\n",
    "print(min(d.values()))\n",
    "print(max(d.values()))\n",
    "print(sum(d.values())/len(d))\n"
   ]
  },
  {
   "cell_type": "code",
   "execution_count": 70,
   "metadata": {},
   "outputs": [
    {
     "name": "stdout",
     "output_type": "stream",
     "text": [
      "(datetime.datetime(2025, 3, 4, 0, 0), 4)\n"
     ]
    }
   ],
   "source": [
    "from datetime import datetime\n",
    "d = {1 : '31-12-2024', 2: '03-01-2025', 3: '30-4-2020', 4: '04-03-2025'}\n",
    "arr = []\n",
    "for k, v in d.items():\n",
    "    dates = datetime.strptime(v, '%d-%m-%Y')\n",
    "    arr.append((dates, k))\n",
    "print(max(arr))\n"
   ]
  },
  {
   "cell_type": "code",
   "execution_count": 27,
   "metadata": {},
   "outputs": [
    {
     "name": "stdout",
     "output_type": "stream",
     "text": [
      "c\n",
      "n\n",
      "Counter({'c': 7, 'e': 5, 'd': 4, 'b': 2, 'a': 1, 'n': 1})\n"
     ]
    }
   ],
   "source": [
    "from collections import Counter\n",
    "from statistics import median\n",
    "d = {'a': 1,'b': 2,'c': 7,'d': 4,'e': 5, 'n':1}\n",
    "arr = [1,2,3,4,2,3,1,1,1,5,6,7,3,2,4,5,3,2]\n",
    "counter = Counter(d)\n",
    "print(counter.most_common(1)[0][0])\n",
    "print(counter.most_common()[-1][0])\n",
    "print(counter)\n",
    "# sor = sorted(arr)\n",
    "# print(median(sor))"
   ]
  },
  {
   "cell_type": "code",
   "execution_count": 96,
   "metadata": {},
   "outputs": [
    {
     "name": "stdout",
     "output_type": "stream",
     "text": [
      "{'a': 1, 'b': 2, 'd': 4, 'e': 5, 'c': 7}\n"
     ]
    }
   ],
   "source": [
    "from operator import itemgetter\n",
    "d = {'a': 1,'b': 2,'c': 7,'d': 4,'e': 5}\n",
    "print(dict(sorted(d.items(), key = itemgetter(1))))"
   ]
  },
  {
   "cell_type": "code",
   "execution_count": 150,
   "metadata": {},
   "outputs": [
    {
     "name": "stdout",
     "output_type": "stream",
     "text": [
      "{'a': 1, 'b': 2, 'c': 7, 'd': 4, 'e': 5, 'f': 3}\n",
      "{'a': 1, 'b': 2, 'c': 7, 'd': 4, 'e': 5, 'f': 3, 'n': 2}\n",
      "2\n",
      "1\n",
      "2\n",
      "3\n",
      "{'a': 1, 'b': 2, 'n': 2, 'f': 3, 'd': 4, 'e': 5, 'c': 7}\n"
     ]
    }
   ],
   "source": [
    "from collections import Counter\n",
    "from statistics import median\n",
    "from operator import itemgetter\n",
    "\n",
    "class CustomDictionary:\n",
    "    def __init__(self, dict):\n",
    "        self.dict = dict\n",
    "        \n",
    "    def add(self, key, value):\n",
    "        self.dict[key] = value\n",
    "        print(self.dict)\n",
    "        \n",
    "    def remove(self, key):\n",
    "        if key in self.dict:\n",
    "            del self.dict[key]\n",
    "            print(self.dict)\n",
    "        else:\n",
    "            print(f\"Key '{key}' not found.\")\n",
    "        \n",
    "    def get(self, key):\n",
    "        return self.dict.get(key, \"Key invalid you\")\n",
    "    \n",
    "    def get_least_frequent(self):\n",
    "        count_dict = Counter(self.dict.values())\n",
    "        return min(count_dict, key=count_dict.get)\n",
    "    \n",
    "    def get_most_frequent(self):\n",
    "        count_dict = Counter(self.dict.values())\n",
    "        return max(count_dict, key=count_dict.get)\n",
    "    \n",
    "    def get_median(self):\n",
    "        return median(sorted(self.dict.values()))\n",
    "    \n",
    "    def sort_by_value(self):\n",
    "        return dict(sorted(self.dict.items(), key=itemgetter(1)))\n",
    "\n",
    "# Example usage\n",
    "my_dict = CustomDictionary({'a': 1, 'b': 2, 'c': 7, 'd': 4, 'e': 5})\n",
    "my_dict.add('f', 3)\n",
    "my_dict.add('n', 2)\n",
    "print(my_dict.get('b'))\n",
    "print(my_dict.get_least_frequent())\n",
    "print(my_dict.get_most_frequent())\n",
    "print(my_dict.get_median())\n",
    "print(my_dict.sort_by_value())\n",
    "\n"
   ]
  },
  {
   "cell_type": "code",
   "execution_count": 110,
   "metadata": {},
   "outputs": [
    {
     "name": "stdout",
     "output_type": "stream",
     "text": [
      "{'b': 2, 'c': 7, 'd': 4, 'e': 5}\n"
     ]
    }
   ],
   "source": [
    "d = {'a': 1,'b': 2,'c': 7,'d': 4,'e': 5}\n",
    "del d['a']   \n",
    "print(d)"
   ]
  },
  {
   "cell_type": "code",
   "execution_count": 43,
   "metadata": {},
   "outputs": [
    {
     "name": "stdout",
     "output_type": "stream",
     "text": [
      "Название: Гарри Поттер, Автор: Дж. Роулинг., Статус: Доступна\n",
      "Название: 1984, Автор: Дж. Оруэлл., Статус: Не доступна\n",
      "Название: Мастер и Маргарита, Автор: М. Булгаков., Статус: Доступна\n"
     ]
    }
   ],
   "source": [
    "class Book:\n",
    "    def __init__(self, title, author):\n",
    "        self.title = title\n",
    "        self.author = author\n",
    "        self.is_available = True\n",
    "        \n",
    "    def __str__(self):\n",
    "        status = \"Доступна\" if self.is_available else \"Не доступна\"\n",
    "        return f\"Название: {self.title}, Автор: {self.author}, Статус: {status}\"\n",
    "\n",
    "class User:\n",
    "    def __init__(self, name):\n",
    "        self.name = name\n",
    "        self.borrowed_books = []\n",
    "        \n",
    "    def borrow_book(self, book):\n",
    "        self.borrowed_books.append(book)\n",
    "        return self.borrowed_books\n",
    "       \n",
    "    def return_book(self,book):\n",
    "        self.borrowed_books.remove(book)\n",
    "        return f\"Книга {book} успешно возвращена \"\n",
    "    \n",
    "class Library:\n",
    "    def __init__(self):\n",
    "        self.books = []\n",
    "        self.users = []\n",
    "    \n",
    "    def add_book(self, title, author):\n",
    "        book = Book(title, author)\n",
    "        self.books.append(book)\n",
    "    \n",
    "    def register_user(self, name):\n",
    "        user = User(name)\n",
    "        self.users.append(user)\n",
    "    \n",
    "    def lend_book(self, user, book):\n",
    "        for i in self.books:\n",
    "            if i.title == book:\n",
    "                if i.is_available:\n",
    "                    for j in self.users:\n",
    "                        if j.name == user:\n",
    "                            j.borrow_book(i.title)\n",
    "                            i.is_available = False\n",
    "                            return f\"{user} взял {book}\" \n",
    "                else:\n",
    "                    return f'{book} недоступен'\n",
    "\n",
    "    def accept_return(self, user, book): \n",
    "        for i in self.books:\n",
    "            if i.title == book:\n",
    "                for j in self.users:\n",
    "                    if j.name == user:\n",
    "                        j.return_book(i.title)\n",
    "                        i.is_available = True\n",
    "                        \n",
    "    def show_status(self):\n",
    "        for i in self.books:\n",
    "            print(i)\n",
    "        \n",
    "dk = Library()\n",
    "dk.add_book(\"Гарри Поттер\", \"Дж. Роулинг.\")\n",
    "dk.add_book(\"1984\", \"Дж. Оруэлл.\")\n",
    "dk.add_book(\"Мастер и Маргарита\", \"М. Булгаков.\")\n",
    "dk.register_user(\"Alica\")\n",
    "dk.register_user(\"Bob\")\n",
    "dk.lend_book('Alica', '1984')\n",
    "dk.lend_book('Bob', '1984')\n",
    "dk.accept_return(\"Alica\", '1984')\n",
    "dk.lend_book('Bob', '1984')\n",
    "dk.show_status()\n"
   ]
  },
  {
   "cell_type": "code",
   "execution_count": 36,
   "metadata": {},
   "outputs": [
    {
     "name": "stdout",
     "output_type": "stream",
     "text": [
      "3 в массиве 4\n",
      "редкое число это 4\n",
      "{'a': 1, 'b': 2, 'c': 7, 'd': 4, 'e': 5, 'n': 1}\n",
      "[1, 1, 2, 4, 5, 7]\n"
     ]
    }
   ],
   "source": [
    "from collections import Counter\n",
    "from operator import itemgetter\n",
    "arr = [1,2,3,2,1,3,2,3,4,4,2,3]\n",
    "str = \"hello world\"\n",
    "print(f\"3 в массиве {arr.count(3)}\")\n",
    "c = Counter(arr)\n",
    "print(f\"редкое число это {c.most_common()[-1][0]}\")\n",
    "\n",
    "d = {'a': 1, 'b': 2, 'c': 7, 'd': 4, 'e': 5, 'n': 1}\n",
    "# d = Counter(d)\n",
    "print(d)\n",
    "print((sorted(d.values())))"
   ]
  },
  {
   "cell_type": "code",
   "execution_count": 41,
   "metadata": {},
   "outputs": [
    {
     "name": "stdout",
     "output_type": "stream",
     "text": [
      "[('a', 1), ('b', 2), ('c', 7), ('d', 4), ('e', 5), ('n', 1)]\n",
      "[('a', 1), ('b', 2), ('c', 7), ('d', 4), ('e', 5), ('n', 1)]\n"
     ]
    }
   ],
   "source": [
    "from operator import itemgetter\n",
    "d = {'a': 1, 'b': 2, 'c': 7, 'd': 4, 'e': 5, 'n': 1}\n",
    "\n",
    "print(sorted(d.items(), key=lambda x: x[0]))\n",
    "print(sorted(d.items(), key=itemgetter(0)))\n"
   ]
  },
  {
   "cell_type": "code",
   "execution_count": 48,
   "metadata": {},
   "outputs": [
    {
     "name": "stdout",
     "output_type": "stream",
     "text": [
      "[<__main__.Person object at 0x00000256D51BE330>, <__main__.Person object at 0x00000256D4D68B00>, <__main__.Person object at 0x00000256D51BC260>]\n"
     ]
    }
   ],
   "source": [
    "class Person:\n",
    "    def __init__(self, name, age):\n",
    "        self.name = name\n",
    "        self.age = age\n",
    "        \n",
    "arr = [Person(\"Alice\", 25), Person(\"Bob\", 30), Person(\"Charlie\", 20)]\n",
    "print(sorted(arr, key=lambda x: x.age))"
   ]
  },
  {
   "cell_type": "code",
   "execution_count": 75,
   "metadata": {},
   "outputs": [],
   "source": [
    "from random import randint\n",
    "from csv import reader, writer\n",
    "arr = [7, 4, 3, 8, 10 ,6, 0, 2, 1]\n",
    "def f1():\n",
    "    return(f\"from 5 to 10 {arr[5:11]}\")\n",
    "\n",
    "def f2():\n",
    "    n = []\n",
    "    ind = -1\n",
    "    mn = arr[0]\n",
    "\n",
    "    for i in arr:\n",
    "        ind+=1\n",
    "        if i < mn:\n",
    "            mn = i\n",
    "            n.append((f'index {ind}, value {mn}'))\n",
    "    return(n[-1])\n",
    "\n",
    "def f3(target):\n",
    "    for i in arr:\n",
    "        for j in arr:\n",
    "            if i+j == target and arr.index(i) != arr.index(j):\n",
    "                print(i, j)\n",
    "                \n",
    "\n",
    "file = reader(open(r\"C:\\Users\\ACER\\Desktop\\VSC\\AIT.PYTHON\\Program Learning\\pro.csv\"))\n",
    "fid = writer(open(r\"C:\\Users\\ACER\\Desktop\\VSC\\AIT.PYTHON\\Program Learning\\ultra.csv\", \"w\"))\n",
    "header = next(file)\n",
    "fid.writerow(['Name', \"Total\"])\n",
    "file = [i for i in file]\n",
    "for line in file:\n",
    "    score = 0\n",
    "    name = line[0]\n",
    "    for i in line[1:]:\n",
    "        score+=int(i)\n",
    "    fid.writerow([name, score/3])\n",
    "    "
   ]
  },
  {
   "cell_type": "code",
   "execution_count": 57,
   "metadata": {},
   "outputs": [
    {
     "name": "stdout",
     "output_type": "stream",
     "text": [
      "500000\n",
      "300000000\n",
      "7406300\n"
     ]
    }
   ],
   "source": [
    "def from_str_to_int(word):\n",
    "    d = {'one': 1, 'two': 2, 'three': 3, 'four': 4, 'five': 5, 'six': 6, \n",
    "         'seven': 7, 'eight': 8, 'nine': 9, 'ten': 10, 'hundred': 100, \n",
    "         'thousand': 1000, 'million': 1000000}\n",
    "    \n",
    "    words = word.split()\n",
    "    total = 0\n",
    "    current = 0\n",
    "\n",
    "    for w in words:\n",
    "        if w in d:\n",
    "            value = d[w]\n",
    "            if value >= 100:\n",
    "                current *= value  # Умножаем текущее число (например, \"five hundred\" → 5 * 100)\n",
    "            else:\n",
    "                current += value  # Добавляем число (например, \"five\" → 5)\n",
    "        \n",
    "        if w in ['thousand', 'million']:\n",
    "            total += current  # Добавляем текущее число к общей сумме\n",
    "            current = 0  # Сбрасываем для следующего блока чисел\n",
    "\n",
    "    total += current  # Добавляем остаток\n",
    "    print(total)\n",
    "\n",
    "# Тесты\n",
    "from_str_to_int('five hundred thousand')  # 500000\n",
    "from_str_to_int('three hundred million')  # 300000000\n",
    "from_str_to_int('seven million four hundred fifty six thousand three hundred')  # 7 456 300\n"
   ]
  },
  {
   "cell_type": "code",
   "execution_count": null,
   "metadata": {},
   "outputs": [],
   "source": []
  },
  {
   "cell_type": "code",
   "execution_count": null,
   "metadata": {},
   "outputs": [],
   "source": []
  },
  {
   "cell_type": "code",
   "execution_count": null,
   "metadata": {},
   "outputs": [],
   "source": []
  }
 ],
 "metadata": {
  "kernelspec": {
   "display_name": "Python 3",
   "language": "python",
   "name": "python3"
  },
  "language_info": {
   "codemirror_mode": {
    "name": "ipython",
    "version": 3
   },
   "file_extension": ".py",
   "mimetype": "text/x-python",
   "name": "python",
   "nbconvert_exporter": "python",
   "pygments_lexer": "ipython3",
   "version": "3.12.0"
  }
 },
 "nbformat": 4,
 "nbformat_minor": 2
}
